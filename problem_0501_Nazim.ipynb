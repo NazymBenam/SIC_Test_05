{
  "nbformat": 4,
  "nbformat_minor": 0,
  "metadata": {
    "kernelspec": {
      "display_name": "Python 3",
      "language": "python",
      "name": "python3"
    },
    "language_info": {
      "codemirror_mode": {
        "name": "ipython",
        "version": 3
      },
      "file_extension": ".py",
      "mimetype": "text/x-python",
      "name": "python",
      "nbconvert_exporter": "python",
      "pygments_lexer": "ipython3",
      "version": "3.7.3"
    },
    "colab": {
      "name": "problem_0501_Nazim.ipynb",
      "provenance": [],
      "collapsed_sections": []
    }
  },
  "cells": [
    {
      "cell_type": "markdown",
      "metadata": {
        "id": "rjgrimodz8si"
      },
      "source": [
        "## Quiz #0501"
      ]
    },
    {
      "cell_type": "markdown",
      "metadata": {
        "id": "jKWQCplWz8sm"
      },
      "source": [
        "### \"Logistic Regression and Gradient Descent Algorithm\""
      ]
    },
    {
      "cell_type": "markdown",
      "metadata": {
        "id": "ii_vxXjRz8sp"
      },
      "source": [
        "#### Answer the following questions by providing Python code:\n",
        "#### Objectives:\n",
        "- Code a logistic regression class using only the NumPy library.\n",
        "- Implement in Python the Sigmoid function.\n",
        "- Implement in Python the Gradient of the logarithmic likelihood.\n",
        "- Implement in Python the Gradient Descent Algorithm."
      ]
    },
    {
      "cell_type": "code",
      "metadata": {
        "id": "qPXzVLLez8ss"
      },
      "source": [
        "import numpy as np\n",
        "import pandas as pd\n",
        "from sklearn.datasets import load_breast_cancer\n",
        "from sklearn.model_selection import train_test_split\n",
        "from sklearn import metrics\n",
        "from sklearn import metrics\n",
        "%matplotlib inline\n",
        "from sklearn.metrics import confusion_matrix\n",
        "from sklearn.metrics import accuracy_score"
      ],
      "execution_count": 103,
      "outputs": []
    },
    {
      "cell_type": "markdown",
      "metadata": {
        "id": "NfGrSwGhz8sv"
      },
      "source": [
        "#### Read in data:"
      ]
    },
    {
      "cell_type": "code",
      "metadata": {
        "id": "5v7cO1Jez8sv"
      },
      "source": [
        "# Load data.\n",
        "data = load_breast_cancer()\n",
        "# Explanatory variables.\n",
        "X = data['data']\n",
        "# Relabel such that 0 = 'benign' and 1 = malignant.\n",
        "Y = 1 - data['target']"
      ],
      "execution_count": 104,
      "outputs": []
    },
    {
      "cell_type": "code",
      "metadata": {
        "id": "RfwOovCoz8sw"
      },
      "source": [
        "# Split the dataset into training and testing.\n",
        "X_train, X_test, Y_train, Y_test = train_test_split(X, Y, test_size=0.4, random_state=1234)"
      ],
      "execution_count": 105,
      "outputs": []
    },
    {
      "cell_type": "markdown",
      "metadata": {
        "id": "18dR-OLBz8sy"
      },
      "source": [
        "1). Define the 'sigmoid' and 'gradient' functions to produce the output shown below:"
      ]
    },
    {
      "cell_type": "code",
      "metadata": {
        "id": "yPOYE1H2z8sz"
      },
      "source": [
        ""
      ],
      "execution_count": 105,
      "outputs": []
    },
    {
      "cell_type": "markdown",
      "metadata": {
        "id": "fW8tGbtKz8s3"
      },
      "source": [
        "2). Define the 'LogisticRegression' class to produce the output shown below:"
      ]
    },
    {
      "cell_type": "code",
      "metadata": {
        "id": "ztks3WmBEbFu"
      },
      "source": [
        "class Logistic_Regression :\n",
        "\n",
        "  def __init__(self, lr = 0.001, n_itern = 1000) :\n",
        "    self.lr = lr\n",
        "    self.n_itern = n_itern\n",
        "    self.weights = None\n",
        "    self.bias = None\n",
        "  \n",
        "  def sigmoid(self, x) : \n",
        "    return 1 / (1+ np.exp(-x))\n",
        "\n",
        "  def train(self, X, y) :\n",
        "    n_samples, n_features = X.shape\n",
        "\n",
        "    self.weights = np.zeros(n_features)\n",
        "    self.bias = 0\n",
        "\n",
        "    for _ in range(self.n_itern) :\n",
        "      linear_model = np.dot(X, self.weights) + self.bias\n",
        "      y_predicted = self.sigmoid(linear_model)\n",
        "    \n",
        "      #Gradient descent :\n",
        "      dw = 1/(n_samples) * np.dot(X.T, (y_predicted - y))\n",
        "      db = 1/(n_samples) * np.sum(y_predicted - y)\n",
        "\n",
        "      #Update weights and bias :\n",
        "      self.weights -= self.lr * dw\n",
        "      self.bias -= self.lr * db\n",
        "  \n",
        "  def predict(self, X) :\n",
        "    linear_model = np.dot(X, self.weights) + self.bias\n",
        "    y_predicted = self.sigmoid(linear_model)\n",
        "    y_predicted = [ 1 if i > 0.5 else 0 for i in y_predicted ]\n",
        "    return y_predicted\n"
      ],
      "execution_count": 168,
      "outputs": []
    },
    {
      "cell_type": "markdown",
      "metadata": {
        "id": "Q4LW6q4tz8s5"
      },
      "source": [
        "#### Sample run:"
      ]
    },
    {
      "cell_type": "code",
      "metadata": {
        "id": "LF-BtAahz8s6"
      },
      "source": [
        "# Hyperparameter for the learner.\n",
        "learning_rate = 0.001"
      ],
      "execution_count": 169,
      "outputs": []
    },
    {
      "cell_type": "code",
      "metadata": {
        "id": "qJKt4sffz8s7",
        "colab": {
          "base_uri": "https://localhost:8080/"
        },
        "outputId": "5f8dca5c-0bed-48e8-f53a-3aeafc0c7f22"
      },
      "source": [
        "# Train and predict.\n",
        "LR = Logistic_Regression(lr=learning_rate)\n",
        "LR.train(X_train, Y_train)\n",
        "Y_pred = LR.predict(X_test)"
      ],
      "execution_count": 170,
      "outputs": [
        {
          "output_type": "stream",
          "text": [
            "/usr/local/lib/python3.7/dist-packages/ipykernel_launcher.py:10: RuntimeWarning: overflow encountered in exp\n",
            "  # Remove the CWD from sys.path while we load stuff.\n"
          ],
          "name": "stderr"
        }
      ]
    },
    {
      "cell_type": "code",
      "metadata": {
        "id": "xiQ7YM0iz8s8",
        "colab": {
          "base_uri": "https://localhost:8080/"
        },
        "outputId": "9ec66db6-aeb3-4c20-b52d-5e2e0f22ab28"
      },
      "source": [
        "# Display the accuracy.\n",
        "print('accuracy = ', accuracy_score(Y_pred, Y_test))"
      ],
      "execution_count": 171,
      "outputs": [
        {
          "output_type": "stream",
          "text": [
            "accuracy =  0.9254385964912281\n"
          ],
          "name": "stdout"
        }
      ]
    },
    {
      "cell_type": "code",
      "metadata": {
        "id": "gqZh9Tztz8s9"
      },
      "source": [
        ""
      ],
      "execution_count": 111,
      "outputs": []
    }
  ]
}