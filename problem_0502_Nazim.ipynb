{
  "nbformat": 4,
  "nbformat_minor": 0,
  "metadata": {
    "kernelspec": {
      "display_name": "Python 3",
      "language": "python",
      "name": "python3"
    },
    "language_info": {
      "codemirror_mode": {
        "name": "ipython",
        "version": 3
      },
      "file_extension": ".py",
      "mimetype": "text/x-python",
      "name": "python",
      "nbconvert_exporter": "python",
      "pygments_lexer": "ipython3",
      "version": "3.7.3"
    },
    "colab": {
      "name": "problem_0502_Nazim.ipynb",
      "provenance": [],
      "collapsed_sections": []
    }
  },
  "cells": [
    {
      "cell_type": "markdown",
      "metadata": {
        "id": "gc0c_QDyz9la"
      },
      "source": [
        "## Quiz #0502"
      ]
    },
    {
      "cell_type": "markdown",
      "metadata": {
        "id": "gg5-Q7hwz9lc"
      },
      "source": [
        "### \"Human Activity Recognition\" "
      ]
    },
    {
      "cell_type": "markdown",
      "metadata": {
        "id": "AK-HfZSVz9ld"
      },
      "source": [
        "#### Answer the following questions by providing Python code:\n",
        "#### Objectives:\n",
        "- Carry out the EDA.\n",
        "- Carry out the data pre-processing.\n",
        "- Optimize and test a predictive model of your choice."
      ]
    },
    {
      "cell_type": "code",
      "metadata": {
        "id": "09KTmndGz9ld"
      },
      "source": [
        "import numpy as np\n",
        "import pandas as pd\n",
        "import matplotlib.pyplot as plt\n",
        "import seaborn as sns\n",
        "import os\n",
        "import warnings\n",
        "from sklearn.model_selection import train_test_split, GridSearchCV\n",
        "from sklearn.neighbors import KNeighborsClassifier\n",
        "from sklearn.tree import DecisionTreeClassifier\n",
        "from sklearn.ensemble import RandomForestClassifier,AdaBoostClassifier, GradientBoostingClassifier\n",
        "from xgboost import XGBClassifier\n",
        "from sklearn import metrics, preprocessing\n",
        "warnings.filterwarnings(action='ignore')                  # Turn off the warnings.\n",
        "%matplotlib inline"
      ],
      "execution_count": 270,
      "outputs": []
    },
    {
      "cell_type": "markdown",
      "metadata": {
        "id": "uqIxoAEXz9le"
      },
      "source": [
        "#### Read in data:\n",
        "The explanation on the dataset can be found [here](https://archive.ics.uci.edu/ml/datasets/human+activity+recognition+using+smartphones)."
      ]
    },
    {
      "cell_type": "code",
      "metadata": {
        "id": "T4HTIdmuz9le"
      },
      "source": [
        "# Go to the directory where the data file is located. \n",
        "# os.chdir(r'~~')                # Please, replace the path with your own. "
      ],
      "execution_count": 271,
      "outputs": []
    },
    {
      "cell_type": "code",
      "metadata": {
        "id": "q9I9VS7Kz9lf"
      },
      "source": [
        "df = pd.read_csv('data_human activity recognition.csv', header='infer')"
      ],
      "execution_count": 272,
      "outputs": []
    },
    {
      "cell_type": "code",
      "metadata": {
        "id": "NYfBecxSz9lf",
        "colab": {
          "base_uri": "https://localhost:8080/"
        },
        "outputId": "308cae90-bd7f-48b5-efc7-49525b7aaf38"
      },
      "source": [
        "df.shape"
      ],
      "execution_count": 273,
      "outputs": [
        {
          "output_type": "execute_result",
          "data": {
            "text/plain": [
              "(19622, 160)"
            ]
          },
          "metadata": {},
          "execution_count": 273
        }
      ]
    },
    {
      "cell_type": "code",
      "metadata": {
        "id": "vb5_SYjjz9lf",
        "colab": {
          "base_uri": "https://localhost:8080/"
        },
        "outputId": "5c23766c-c05e-4552-c7b9-680120aadf76"
      },
      "source": [
        "df.columns"
      ],
      "execution_count": 274,
      "outputs": [
        {
          "output_type": "execute_result",
          "data": {
            "text/plain": [
              "Index(['Unnamed: 0', 'user_name', 'raw_timestamp_part_1',\n",
              "       'raw_timestamp_part_2', 'cvtd_timestamp', 'new_window', 'num_window',\n",
              "       'roll_belt', 'pitch_belt', 'yaw_belt',\n",
              "       ...\n",
              "       'gyros_forearm_x', 'gyros_forearm_y', 'gyros_forearm_z',\n",
              "       'accel_forearm_x', 'accel_forearm_y', 'accel_forearm_z',\n",
              "       'magnet_forearm_x', 'magnet_forearm_y', 'magnet_forearm_z', 'classe'],\n",
              "      dtype='object', length=160)"
            ]
          },
          "metadata": {},
          "execution_count": 274
        }
      ]
    },
    {
      "cell_type": "code",
      "metadata": {
        "colab": {
          "base_uri": "https://localhost:8080/"
        },
        "id": "6yWw1DMcpnCv",
        "outputId": "3d005fe4-2c34-4004-912d-2f7143dbe42e"
      },
      "source": [
        "df.user_name"
      ],
      "execution_count": 275,
      "outputs": [
        {
          "output_type": "execute_result",
          "data": {
            "text/plain": [
              "0        carlitos\n",
              "1        carlitos\n",
              "2        carlitos\n",
              "3        carlitos\n",
              "4        carlitos\n",
              "           ...   \n",
              "19617      adelmo\n",
              "19618      adelmo\n",
              "19619      adelmo\n",
              "19620      adelmo\n",
              "19621      adelmo\n",
              "Name: user_name, Length: 19622, dtype: object"
            ]
          },
          "metadata": {},
          "execution_count": 275
        }
      ]
    },
    {
      "cell_type": "markdown",
      "metadata": {
        "id": "lINfia61z9lf"
      },
      "source": [
        "1). Carry out the EDA. Check for the missing values. HINT: The response variable is 'classe'."
      ]
    },
    {
      "cell_type": "code",
      "metadata": {
        "id": "qW8fLXl6z9lf",
        "colab": {
          "base_uri": "https://localhost:8080/"
        },
        "outputId": "578df23b-a2c0-49cc-d397-81cdb4755dc9"
      },
      "source": [
        "df['classe'].describe()"
      ],
      "execution_count": 276,
      "outputs": [
        {
          "output_type": "execute_result",
          "data": {
            "text/plain": [
              "count     19622\n",
              "unique        5\n",
              "top           A\n",
              "freq       5580\n",
              "Name: classe, dtype: object"
            ]
          },
          "metadata": {},
          "execution_count": 276
        }
      ]
    },
    {
      "cell_type": "code",
      "metadata": {
        "colab": {
          "base_uri": "https://localhost:8080/"
        },
        "id": "uyvcRBFmnez-",
        "outputId": "76d98560-ca4b-46cf-ef9f-23cc70b53ec9"
      },
      "source": [
        "df.classe.value_counts()"
      ],
      "execution_count": 277,
      "outputs": [
        {
          "output_type": "execute_result",
          "data": {
            "text/plain": [
              "A    5580\n",
              "B    3797\n",
              "E    3607\n",
              "C    3422\n",
              "D    3216\n",
              "Name: classe, dtype: int64"
            ]
          },
          "metadata": {},
          "execution_count": 277
        }
      ]
    },
    {
      "cell_type": "markdown",
      "metadata": {
        "id": "Nt97aqnfz9lg"
      },
      "source": [
        "2). Get rid of the columns that have more than 97% missing values."
      ]
    },
    {
      "cell_type": "code",
      "metadata": {
        "id": "uCcIK5ybnbfZ"
      },
      "source": [
        "a,b = df.shape\n",
        "df.dropna(thresh=(0.97*a), axis=1, inplace=True)"
      ],
      "execution_count": 278,
      "outputs": []
    },
    {
      "cell_type": "markdown",
      "metadata": {
        "id": "6buNE_iLz9lg"
      },
      "source": [
        "3). Get rid of the unnecessary columns. HINT: Those columns with \"time\" in the name and those that are obviously unnecessary."
      ]
    },
    {
      "cell_type": "code",
      "metadata": {
        "id": "mqxZ4VpHz9lg"
      },
      "source": [
        "df=df.drop(['Unnamed: 0','user_name','raw_timestamp_part_1','raw_timestamp_part_2','cvtd_timestamp'], axis=1)"
      ],
      "execution_count": 279,
      "outputs": []
    },
    {
      "cell_type": "code",
      "metadata": {
        "id": "RzdReEJdz9lg",
        "colab": {
          "base_uri": "https://localhost:8080/"
        },
        "outputId": "4cacc098-51ea-4bba-f925-10f13793c93c"
      },
      "source": [
        "df.shape"
      ],
      "execution_count": 280,
      "outputs": [
        {
          "output_type": "execute_result",
          "data": {
            "text/plain": [
              "(19622, 55)"
            ]
          },
          "metadata": {},
          "execution_count": 280
        }
      ]
    },
    {
      "cell_type": "markdown",
      "metadata": {
        "id": "pPrtMUQFz9lg"
      },
      "source": [
        "4). Label encode the responde variable. HINT: use preprocessing.LabelEncoder(). "
      ]
    },
    {
      "cell_type": "code",
      "metadata": {
        "id": "A6ia2EiLz9lg"
      },
      "source": [
        "from sklearn.preprocessing import LabelEncoder\n",
        "encoder = LabelEncoder()\n",
        "df['new_window']=encoder.fit_transform(df['new_window'])\n",
        "df['classe']=encoder.fit_transform(df['classe'])"
      ],
      "execution_count": 281,
      "outputs": []
    },
    {
      "cell_type": "markdown",
      "metadata": {
        "id": "VXzVfW5dz9lh"
      },
      "source": [
        "5). Carry out min-max scaling of the exploratory variables. HINT: use preprocessing.MinMaxScaler()."
      ]
    },
    {
      "cell_type": "code",
      "metadata": {
        "id": "2qjhdLTUz9lh"
      },
      "source": [
        "X = df.drop('classe' , axis=1)\n",
        "Y = df['classe']"
      ],
      "execution_count": 282,
      "outputs": []
    },
    {
      "cell_type": "code",
      "metadata": {
        "id": "YEvZnyEdsm9-"
      },
      "source": [
        "from sklearn.preprocessing import MinMaxScaler\n",
        "\n",
        "scaler = preprocessing.MinMaxScaler()\n",
        "df_scaled = scaler.fit_transform(X)"
      ],
      "execution_count": 283,
      "outputs": []
    },
    {
      "cell_type": "markdown",
      "metadata": {
        "id": "wa_PK9C5z9lh"
      },
      "source": [
        "6). Choose an algorithm and carry out the predictive analysis.\n",
        "\n",
        "- Optimize the hyperparameter(s)\n",
        "- Calculate the accuracy.\n",
        "- Aim for upper 90% accuracy."
      ]
    },
    {
      "cell_type": "code",
      "metadata": {
        "id": "1dS0Ekmdz9lh"
      },
      "source": [
        "#We will use Random Forest Classifier."
      ],
      "execution_count": 284,
      "outputs": []
    },
    {
      "cell_type": "code",
      "metadata": {
        "id": "udf78Z2ltMgN"
      },
      "source": [
        "X_train, X_test, y_train, y_test = train_test_split(df_scaled, Y, test_size=0.33, random_state=1234)"
      ],
      "execution_count": 285,
      "outputs": []
    },
    {
      "cell_type": "code",
      "metadata": {
        "colab": {
          "base_uri": "https://localhost:8080/"
        },
        "id": "VwhWQl6JtcW4",
        "outputId": "6ddda2a6-79e5-47e8-9741-3b24195ac788"
      },
      "source": [
        "clf = RandomForestClassifier()\n",
        "clf.fit(X_train,y_train)\n",
        "y_pred = clf.predict(X_test)\n",
        "print(\"RandomForest Accuracy : \",metrics.accuracy_score(y_test,y_pred))"
      ],
      "execution_count": 286,
      "outputs": [
        {
          "output_type": "stream",
          "text": [
            "RandomForest Accuracy :  0.9972205064854849\n"
          ],
          "name": "stdout"
        }
      ]
    }
  ]
}